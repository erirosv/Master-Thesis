{
 "cells": [
  {
   "cell_type": "code",
   "execution_count": 29,
   "metadata": {},
   "outputs": [],
   "source": [
    "import pandas as pd\n",
    "import os"
   ]
  },
  {
   "cell_type": "code",
   "execution_count": 30,
   "metadata": {},
   "outputs": [],
   "source": [
    "PATH_TO_DATA = '../data/processed/'\n",
    "\n",
    "alon = PATH_TO_DATA + 'alon.csv'\n",
    "borovecki = PATH_TO_DATA + 'borovecki.csv'\n",
    "burcyznski = PATH_TO_DATA + 'burczynski.csv'\n",
    "chiaretti = PATH_TO_DATA + 'chiaretti.csv'\n",
    "chin = PATH_TO_DATA + 'chin.csv'\n",
    "chowdary = PATH_TO_DATA + 'chowdary.csv'\n",
    "christensen = PATH_TO_DATA + 'christensen.csv'\n",
    "golub = PATH_TO_DATA + 'christensen.csv'\n",
    "gordon = PATH_TO_DATA + 'gordon.csv'\n",
    "gravier = PATH_TO_DATA + 'gravier.csv'\n",
    "khan = PATH_TO_DATA + 'khan.csv'\n",
    "nakayama = PATH_TO_DATA + 'nakayama.csv'\n",
    "pomeroy = PATH_TO_DATA + 'pomeroy.csv'\n",
    "shipp = PATH_TO_DATA + 'shipp.csv'\n",
    "singh = PATH_TO_DATA + 'singh.csv'\n",
    "sorlie = PATH_TO_DATA + 'sorlie.csv'\n",
    "su = PATH_TO_DATA + 'su.csv'\n",
    "subramanian = PATH_TO_DATA + 'subramanian.csv' \n",
    "sun = PATH_TO_DATA + 'sun.csv'\n",
    "tian = PATH_TO_DATA + 'tian.csv'\n",
    "west = PATH_TO_DATA + 'west.csv'\n",
    "yeoh = PATH_TO_DATA + 'yeoh.csv'"
   ]
  },
  {
   "cell_type": "code",
   "execution_count": 31,
   "metadata": {},
   "outputs": [],
   "source": [
    "alon_data = pd.read_csv(alon)\n",
    "borovecki_data = pd.read_csv(borovecki)\n",
    "burcyznski_data = pd.read_csv(burcyznski)\n",
    "chiaretti_data = pd.read_csv(chiaretti)\n",
    "chin_data = pd.read_csv(chin)\n",
    "chowdary_data = pd.read_csv(chowdary)\n",
    "christensen_data = pd.read_csv(christensen)\n",
    "golub_data = pd.read_csv(golub)\n",
    "gordon_data = pd.read_csv(gordon)\n",
    "gravier_data = pd.read_csv(gravier)\n",
    "khan_data = pd.read_csv(khan)\n",
    "nakayama_data = pd.read_csv(nakayama)\n",
    "pomeroy_data = pd.read_csv(pomeroy)\n",
    "shipp_data = pd.read_csv(shipp)\n",
    "singh_data = pd.read_csv(singh)\n",
    "sorlie_data = pd.read_csv(sorlie)\n",
    "su_data = pd.read_csv(su)\n",
    "subramanian_data = pd.read_csv(subramanian)\n",
    "sun_data = pd.read_csv(sun)\n",
    "tian_data = pd.read_csv(tian)\n",
    "west_data = pd.read_csv(west)\n",
    "yeoh_data = pd.read_csv(yeoh)\n"
   ]
  },
  {
   "cell_type": "code",
   "execution_count": 32,
   "metadata": {},
   "outputs": [],
   "source": [
    "name_list = ['alon', 'borovecki', 'burcyznski', 'chiaretti', 'chin', \n",
    "                'chowdary', 'christensen', 'golub', 'gordon', 'gravier', \n",
    "                'khan', 'nakayama', 'pomeroy', 'shipp', 'singh', \n",
    "                'sorlie', 'su', 'subramanian', 'sun', 'tian', 'west',\n",
    "                 'yeoh']"
   ]
  },
  {
   "cell_type": "code",
   "execution_count": 33,
   "metadata": {},
   "outputs": [
    {
     "name": "stdout",
     "output_type": "stream",
     "text": [
      "alon: {'t', 'n'}\n",
      "borovecki: {'control', 'symptomatic'}\n",
      "burcyznski: {'ulcerative colitis', \"Crohn's disease\", 'normal'}\n",
      "chiaretti: {'p15/p16', 'NEG', 'E2A/PBX1', 'BCR/ABL', 'ALL1/AF4', 'NUP-98'}\n",
      "chin: {'positive', 'negative'}\n",
      "chowdary: {'breast', 'colon'}\n",
      "christensen: {'other', 'blood', 'placenta'}\n",
      "golub: {'other', 'blood', 'placenta'}\n",
      "gordon: {'mesothelioma', 'adenocarcinoma'}\n",
      "gravier: {'poor', 'good'}\n",
      "khan: {'RMS', 'BL', 'NB', 'EWS'}\n",
      "nakayama: {'fibrosarcoma', 'myxofibrosarcoma', 'malignant fibrous histiocytoma', 'well-differentiated liposarcoma', 'leiomyosarcoma', 'synovial sarcoma', 'dedifferentiated liposarcoma', 'myxoid liposarcoma', 'malignant peripheral nerve sheath tumor', 'lipoma'}\n",
      "pomeroy: {'died', 'survived'}\n",
      "shipp: {'DLBCL', 'FL'}\n",
      "singh: {'Tumor', 'Normal'}\n",
      "sorlie: {1, 2, 3, 4, 5}\n",
      "su: {1, 2, 3, 4}\n",
      "subramanian: {'MUT', 'WT'}\n",
      "sun: {'astrocytomas', 'non-tumor', 'glioblastomas', 'oligodendrogliomas'}\n",
      "tian: {'MRI-lytic-lesion sample', 'MRI-no-lytic-lesion sample'}\n",
      "west: {'positive', 'negative'}\n",
      "yeoh: {'T', 'TEL', 'BCR', 'E2A', 'Hyperdip', 'MLL'}\n"
     ]
    }
   ],
   "source": [
    "for item in name_list:\n",
    "    temp = item + '_data'\n",
    "    dataset = globals()[temp]\n",
    "    y_column = dataset['y']\n",
    "    print(item + \": \" + str(set(y_column)))"
   ]
  },
  {
   "cell_type": "code",
   "execution_count": null,
   "metadata": {},
   "outputs": [],
   "source": []
  }
 ],
 "metadata": {
  "kernelspec": {
   "display_name": "Python 3",
   "language": "python",
   "name": "python3"
  },
  "language_info": {
   "codemirror_mode": {
    "name": "ipython",
    "version": 3
   },
   "file_extension": ".py",
   "mimetype": "text/x-python",
   "name": "python",
   "nbconvert_exporter": "python",
   "pygments_lexer": "ipython3",
   "version": "3.10.11"
  },
  "orig_nbformat": 4
 },
 "nbformat": 4,
 "nbformat_minor": 2
}
