{
 "cells": [
  {
   "cell_type": "code",
   "execution_count": 1,
   "metadata": {},
   "outputs": [],
   "source": [
    "import pandas as pd\n",
    "import matplotlib.pyplot as plt\n",
    "import numpy as np\n",
    "import glob"
   ]
  },
  {
   "cell_type": "code",
   "execution_count": 2,
   "metadata": {},
   "outputs": [],
   "source": [
    "data_list_numbers = ['1', '2', '3', '4', '5', '6', '7']\n",
    "data_list_name = 'num_grad_'"
   ]
  },
  {
   "cell_type": "code",
   "execution_count": 6,
   "metadata": {},
   "outputs": [
    {
     "name": "stdout",
     "output_type": "stream",
     "text": [
      "../data/sensitivity/num_grad_avg//num_grad_1/gene_fsr_results_cv_alon.csv\n",
      "../data/sensitivity/num_grad_avg//num_grad_2/gene_fsr_results_cv_alon.csv\n",
      "../data/sensitivity/num_grad_avg//num_grad_3/gene_fsr_results_cv_alon.csv\n",
      "../data/sensitivity/num_grad_avg//num_grad_4/gene_fsr_results_cv_alon.csv\n",
      "../data/sensitivity/num_grad_avg//num_grad_5/gene_fsr_results_cv_alon.csv\n",
      "../data/sensitivity/num_grad_avg//num_grad_6/gene_fsr_results_cv_alon.csv\n",
      "../data/sensitivity/num_grad_avg//num_grad_7/gene_fsr_results_cv_alon.csv\n"
     ]
    }
   ],
   "source": [
    "dataframes = []\n",
    "for number in data_list_numbers:\n",
    "    file_pattern = f\"../data/sensitivity/num_grad_avg//{data_list_name}{number}/gene_fsr_results_cv_alon.csv\"\n",
    "    print(file_pattern)\n",
    "    matching_files = glob.glob(file_pattern)\n",
    "    \n",
    "    for file in matching_files:\n",
    "        df = pd.read_csv(file)\n",
    "        dataframes.append(df)"
   ]
  },
  {
   "cell_type": "code",
   "execution_count": 7,
   "metadata": {},
   "outputs": [
    {
     "ename": "IndexError",
     "evalue": "list index out of range",
     "output_type": "error",
     "traceback": [
      "\u001b[0;31m---------------------------------------------------------------------------\u001b[0m",
      "\u001b[0;31mIndexError\u001b[0m                                Traceback (most recent call last)",
      "Cell \u001b[0;32mIn[7], line 7\u001b[0m\n\u001b[1;32m      5\u001b[0m df_80 \u001b[39m=\u001b[39m dataframes[\u001b[39m4\u001b[39m]\n\u001b[1;32m      6\u001b[0m df_90 \u001b[39m=\u001b[39m dataframes[\u001b[39m5\u001b[39m]\n\u001b[0;32m----> 7\u001b[0m df_100 \u001b[39m=\u001b[39m dataframes[\u001b[39m6\u001b[39;49m]\n",
      "\u001b[0;31mIndexError\u001b[0m: list index out of range"
     ]
    }
   ],
   "source": [
    "df_1 = dataframes[0]\n",
    "df_2 = dataframes[1]\n",
    "df_3 = dataframes[2]\n",
    "df_4 = dataframes[3]\n",
    "df_5 = dataframes[4]\n",
    "df_6 = dataframes[5]\n",
    "df_7 = dataframes[6]"
   ]
  },
  {
   "cell_type": "code",
   "execution_count": null,
   "metadata": {},
   "outputs": [],
   "source": []
  }
 ],
 "metadata": {
  "kernelspec": {
   "display_name": "Python 3",
   "language": "python",
   "name": "python3"
  },
  "language_info": {
   "codemirror_mode": {
    "name": "ipython",
    "version": 3
   },
   "file_extension": ".py",
   "mimetype": "text/x-python",
   "name": "python",
   "nbconvert_exporter": "python",
   "pygments_lexer": "ipython3",
   "version": "3.10.11"
  },
  "orig_nbformat": 4
 },
 "nbformat": 4,
 "nbformat_minor": 2
}
