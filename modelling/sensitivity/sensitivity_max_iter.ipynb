{
 "cells": [
  {
   "cell_type": "code",
   "execution_count": 2,
   "metadata": {},
   "outputs": [],
   "source": [
    "import pandas as pd\n",
    "import matplotlib.pyplot as plt\n",
    "import numpy as np\n",
    "import glob"
   ]
  },
  {
   "cell_type": "code",
   "execution_count": 3,
   "metadata": {},
   "outputs": [],
   "source": [
    "data_list_numbers = ['40', '50', '60', '70', '80', '90', '100']\n",
    "data_list_name = 'max_iter_'"
   ]
  },
  {
   "cell_type": "code",
   "execution_count": 4,
   "metadata": {},
   "outputs": [],
   "source": [
    "dataframes = []"
   ]
  },
  {
   "cell_type": "code",
   "execution_count": 5,
   "metadata": {},
   "outputs": [
    {
     "name": "stdout",
     "output_type": "stream",
     "text": [
      "../data/sensitivity/iter_max/max_iter_40/gene_fsr_results_cv_alon.csv\n",
      "../data/sensitivity/iter_max/max_iter_50/gene_fsr_results_cv_alon.csv\n",
      "../data/sensitivity/iter_max/max_iter_60/gene_fsr_results_cv_alon.csv\n",
      "../data/sensitivity/iter_max/max_iter_70/gene_fsr_results_cv_alon.csv\n",
      "../data/sensitivity/iter_max/max_iter_80/gene_fsr_results_cv_alon.csv\n",
      "../data/sensitivity/iter_max/max_iter_90/gene_fsr_results_cv_alon.csv\n",
      "../data/sensitivity/iter_max/max_iter_100/gene_fsr_results_cv_alon.csv\n"
     ]
    }
   ],
   "source": [
    "for number in data_list_numbers:\n",
    "    file_pattern = f\"../data/sensitivity/iter_max/{data_list_name}{number}/gene_fsr_results_cv_alon.csv\"\n",
    "    print(file_pattern)\n",
    "    matching_files = glob.glob(file_pattern)\n",
    "    \n",
    "    for file in matching_files:\n",
    "        df = pd.read_csv(file)\n",
    "        dataframes.append(df)"
   ]
  },
  {
   "cell_type": "code",
   "execution_count": 6,
   "metadata": {},
   "outputs": [
    {
     "name": "stdout",
     "output_type": "stream",
     "text": [
      "  dataset _wrapper  num_features_algo  cv_SPFSR\n",
      "0    alon       DT                 10    0.0000\n",
      "1    alon       DT                 10    0.4615\n",
      "2    alon       DT                 10    0.1667\n",
      "3    alon       DT                 10    0.2500\n",
      "4    alon       DT                 10    0.1667\n",
      "  dataset _wrapper  num_features_algo  cv_SPFSR\n",
      "0    alon       DT                 10    0.0000\n",
      "1    alon       DT                 10    0.4615\n",
      "2    alon       DT                 10    0.1667\n",
      "3    alon       DT                 10    0.2500\n",
      "4    alon       DT                 10    0.1667\n",
      "  dataset _wrapper  num_features_algo  cv_SPFSR\n",
      "0    alon       DT                 10    0.0769\n",
      "1    alon       DT                 10    0.4615\n",
      "2    alon       DT                 10    0.1667\n",
      "3    alon       DT                 10    0.2500\n",
      "4    alon       DT                 10    0.2500\n",
      "  dataset _wrapper  num_features_algo  cv_SPFSR\n",
      "0    alon       DT                 10    0.0769\n",
      "1    alon       DT                 10    0.4615\n",
      "2    alon       DT                 10    0.1667\n",
      "3    alon       DT                 10    0.2500\n",
      "4    alon       DT                 10    0.2500\n",
      "  dataset _wrapper  num_features_algo  cv_SPFSR\n",
      "0    alon       DT                 10    0.0769\n",
      "1    alon       DT                 10    0.4615\n",
      "2    alon       DT                 10    0.1667\n",
      "3    alon       DT                 10    0.2500\n",
      "4    alon       DT                 10    0.2500\n",
      "  dataset _wrapper  num_features_algo  cv_SPFSR\n",
      "0    alon       DT                 10    0.0769\n",
      "1    alon       DT                 10    0.4615\n",
      "2    alon       DT                 10    0.1667\n",
      "3    alon       DT                 10    0.2500\n",
      "4    alon       DT                 10    0.2500\n",
      "  dataset _wrapper  num_features_algo  cv_SPFSR\n",
      "0    alon       DT                 10    0.0769\n",
      "1    alon       DT                 10    0.4615\n",
      "2    alon       DT                 10    0.1667\n",
      "3    alon       DT                 10    0.2500\n",
      "4    alon       DT                 10    0.2500\n"
     ]
    }
   ],
   "source": [
    "len(dataframes)\n",
    "for frame in dataframes:\n",
    "    print(frame.head())"
   ]
  },
  {
   "cell_type": "code",
   "execution_count": 7,
   "metadata": {},
   "outputs": [
    {
     "name": "stdout",
     "output_type": "stream",
     "text": [
      "<class 'pandas.core.frame.DataFrame'>\n",
      "RangeIndex: 100 entries, 0 to 99\n",
      "Data columns (total 4 columns):\n",
      " #   Column             Non-Null Count  Dtype  \n",
      "---  ------             --------------  -----  \n",
      " 0   dataset            100 non-null    object \n",
      " 1   _wrapper           100 non-null    object \n",
      " 2   num_features_algo  100 non-null    int64  \n",
      " 3   cv_SPFSR           100 non-null    float64\n",
      "dtypes: float64(1), int64(1), object(2)\n",
      "memory usage: 3.2+ KB\n"
     ]
    }
   ],
   "source": [
    "df_40 = dataframes[0]\n",
    "df_50 = dataframes[1]\n",
    "df_60 = dataframes[2]\n",
    "df_70 = dataframes[3]\n",
    "df_80 = dataframes[4]\n",
    "df_90 = dataframes[5]\n",
    "df_100 = dataframes[6]\n",
    "df_40.info()"
   ]
  },
  {
   "cell_type": "code",
   "execution_count": 8,
   "metadata": {},
   "outputs": [
    {
     "name": "stdout",
     "output_type": "stream",
     "text": [
      "{'KNN', 'DT', 'NB', 'SVM'}\n"
     ]
    }
   ],
   "source": [
    "print(set(df_40['_wrapper']))\n",
    "wrapper_names = set(df_40['_wrapper'])"
   ]
  },
  {
   "cell_type": "code",
   "execution_count": 9,
   "metadata": {},
   "outputs": [
    {
     "name": "stdout",
     "output_type": "stream",
     "text": [
      "0     0.0000\n",
      "1     0.4615\n",
      "2     0.1667\n",
      "3     0.2500\n",
      "4     0.1667\n",
      "       ...  \n",
      "95    0.2308\n",
      "96    0.1538\n",
      "97    0.1667\n",
      "98    0.0833\n",
      "99    0.3333\n",
      "Name: cv_SPFSR, Length: 100, dtype: float64\n"
     ]
    }
   ],
   "source": [
    "# Assuming the DataFrame is named 'df_40' and you want to extract values from 'cv_SPFSR' column\n",
    "selected_values = df_40.loc[df_40['_wrapper'].isin({'DT', 'KNN', 'NB', 'SVM'}), 'cv_SPFSR']\n",
    "\n",
    "print(selected_values)\n"
   ]
  },
  {
   "cell_type": "code",
   "execution_count": 10,
   "metadata": {},
   "outputs": [],
   "source": [
    "# max_iter_40\n",
    "df_40_DT = df_40.loc[df_40['_wrapper'] == 'DT', 'cv_SPFSR']\n",
    "df_40_KNN = df_40.loc[df_40['_wrapper'] == 'KNN', 'cv_SPFSR']\n",
    "df_40_NB = df_40.loc[df_40['_wrapper'] == 'NB', 'cv_SPFSR']\n",
    "df_40_SVM = df_40.loc[df_40['_wrapper'] == 'SVM', 'cv_SPFSR']\n",
    "\n",
    "# max_iter_50\n",
    "df_50_DT = df_50.loc[df_50['_wrapper'] == 'DT', 'cv_SPFSR']\n",
    "df_50_KNN = df_50.loc[df_50['_wrapper'] == 'KNN', 'cv_SPFSR']\n",
    "df_50_NB = df_50.loc[df_50['_wrapper'] == 'NB', 'cv_SPFSR']\n",
    "df_50_SVM = df_50.loc[df_50['_wrapper'] == 'SVM', 'cv_SPFSR']\n",
    "\n",
    "# max_iter_60\n",
    "df_60_DT = df_60.loc[df_60['_wrapper'] == 'DT', 'cv_SPFSR']\n",
    "df_60_KNN = df_60.loc[df_60['_wrapper'] == 'KNN', 'cv_SPFSR']\n",
    "df_60_NB = df_60.loc[df_60['_wrapper'] == 'NB', 'cv_SPFSR']\n",
    "df_60_SVM = df_60.loc[df_60['_wrapper'] == 'SVM', 'cv_SPFSR']\n",
    "\n",
    "# max_iter_70\n",
    "df_70_DT = df_70.loc[df_70['_wrapper'] == 'DT', 'cv_SPFSR']\n",
    "df_70_KNN = df_70.loc[df_70['_wrapper'] == 'KNN', 'cv_SPFSR']\n",
    "df_70_NB = df_70.loc[df_70['_wrapper'] == 'NB', 'cv_SPFSR']\n",
    "df_70_SVM = df_70.loc[df_70['_wrapper'] == 'SVM', 'cv_SPFSR']\n",
    "\n",
    "# max_iter_80\n",
    "df_80_DT = df_80.loc[df_80['_wrapper'] == 'DT', 'cv_SPFSR']\n",
    "df_80_KNN = df_80.loc[df_80['_wrapper'] == 'KNN', 'cv_SPFSR']\n",
    "df_80_NB = df_80.loc[df_80['_wrapper'] == 'NB', 'cv_SPFSR']\n",
    "df_80_SVM = df_80.loc[df_80['_wrapper'] == 'SVM', 'cv_SPFSR']\n",
    "\n",
    "# max_iter_90\n",
    "df_90_DT = df_90.loc[df_90['_wrapper'] == 'DT', 'cv_SPFSR']\n",
    "df_90_KNN = df_90.loc[df_90['_wrapper'] == 'KNN', 'cv_SPFSR']\n",
    "df_90_NB = df_90.loc[df_90['_wrapper'] == 'NB', 'cv_SPFSR']\n",
    "df_90_SVM = df_90.loc[df_90['_wrapper'] == 'SVM', 'cv_SPFSR']\n",
    "\n",
    "# max_iter_100\n",
    "df_100_DT = df_100.loc[df_100['_wrapper'] == 'DT', 'cv_SPFSR']\n",
    "df_100_KNN = df_100.loc[df_100['_wrapper'] == 'KNN', 'cv_SPFSR']\n",
    "df_100_NB = df_100.loc[df_100['_wrapper'] == 'NB', 'cv_SPFSR']\n",
    "df_100_SVM = df_100.loc[df_100['_wrapper'] == 'SVM', 'cv_SPFSR']"
   ]
  },
  {
   "cell_type": "code",
   "execution_count": null,
   "metadata": {},
   "outputs": [],
   "source": [
    "def convert_to_accuracy_percentages(x):\n",
    "    return (100*(1-x))"
   ]
  },
  {
   "cell_type": "code",
   "execution_count": 11,
   "metadata": {},
   "outputs": [],
   "source": [
    "df_DT_mean = []\n",
    "df_DT_mean.append(df_40_DT.mean())\n",
    "df_DT_mean.append(df_50_DT.mean())\n",
    "df_DT_mean.append(df_60_DT.mean())\n",
    "df_DT_mean.append(df_70_DT.mean())\n",
    "df_DT_mean.append(df_80_DT.mean())\n",
    "df_DT_mean.append(df_90_DT.mean())\n",
    "df_DT_mean.append(df_100_DT.mean())\n",
    "\n",
    "df_KNN_mean = []\n",
    "df_KNN_mean.append(df_40_KNN.mean())\n",
    "df_KNN_mean.append(df_50_KNN.mean())\n",
    "df_KNN_mean.append(df_60_KNN.mean())\n",
    "df_KNN_mean.append(df_70_KNN.mean())\n",
    "df_KNN_mean.append(df_80_KNN.mean())\n",
    "df_KNN_mean.append(df_90_KNN.mean())\n",
    "df_KNN_mean.append(df_100_KNN.mean())\n",
    "\n",
    "df_NB_mean = []\n",
    "df_NB_mean.append(df_40_NB.mean())\n",
    "df_NB_mean.append(df_50_NB.mean())\n",
    "df_NB_mean.append(df_60_NB.mean())\n",
    "df_NB_mean.append(df_70_NB.mean())\n",
    "df_NB_mean.append(df_80_NB.mean())\n",
    "df_NB_mean.append(df_90_NB.mean())\n",
    "df_NB_mean.append(df_100_NB.mean())\n",
    "\n",
    "df_SVM_mean = []\n",
    "df_SVM_mean.append(df_40_SVM.mean())\n",
    "df_SVM_mean.append(df_50_SVM.mean())\n",
    "df_SVM_mean.append(df_60_SVM.mean())\n",
    "df_SVM_mean.append(df_70_SVM.mean())\n",
    "df_SVM_mean.append(df_80_SVM.mean())\n",
    "df_SVM_mean.append(df_90_SVM.mean())\n",
    "df_SVM_mean.append(df_100_SVM.mean())"
   ]
  },
  {
   "cell_type": "code",
   "execution_count": 14,
   "metadata": {},
   "outputs": [
    {
     "data": {
      "image/png": "[encoded data removed]",
      "text/plain": [
       "<Figure size 640x480 with 1 Axes>"
      ]
     },
     "metadata": {},
     "output_type": "display_data"
    }
   ],
   "source": [
    "x_labels = ['40', '50', '60', '70', '80', '90', '100']\n",
    "plt.plot(df_DT_mean, label='DT')\n",
    "plt.plot(df_KNN_mean, label='KNN')\n",
    "plt.plot(df_NB_mean, label='NB')\n",
    "plt.plot(df_SVM_mean, label='SVM')\n",
    "\n",
    "plt.xticks(range(len(df_DT_mean)), x_labels)\n",
    "plt.xlabel('X-axis Label')\n",
    "plt.ylabel('Y-axis Label')\n",
    "plt.title('Plot Title')\n",
    "plt.legend(loc='center right')  # Show legend\n",
    "\n",
    "plt.show()"
   ]
  },
  {
   "attachments": {},
   "cell_type": "markdown",
   "metadata": {},
   "source": [
    "## DT"
   ]
  },
  {
   "cell_type": "code",
   "execution_count": null,
   "metadata": {},
   "outputs": [],
   "source": []
  },
  {
   "attachments": {},
   "cell_type": "markdown",
   "metadata": {},
   "source": [
    "## KNN"
   ]
  },
  {
   "cell_type": "code",
   "execution_count": null,
   "metadata": {},
   "outputs": [],
   "source": []
  },
  {
   "attachments": {},
   "cell_type": "markdown",
   "metadata": {},
   "source": [
    "## NB"
   ]
  },
  {
   "cell_type": "code",
   "execution_count": null,
   "metadata": {},
   "outputs": [],
   "source": []
  },
  {
   "attachments": {},
   "cell_type": "markdown",
   "metadata": {},
   "source": [
    "## SVM"
   ]
  },
  {
   "cell_type": "code",
   "execution_count": null,
   "metadata": {},
   "outputs": [],
   "source": []
  }
 ],
 "metadata": {
  "kernelspec": {
   "display_name": "Python 3",
   "language": "python",
   "name": "python3"
  },
  "language_info": {
   "codemirror_mode": {
    "name": "ipython",
    "version": 3
   },
   "file_extension": ".py",
   "mimetype": "text/x-python",
   "name": "python",
   "nbconvert_exporter": "python",
   "pygments_lexer": "ipython3",
   "version": "3.10.11"
  },
  "orig_nbformat": 4
 },
 "nbformat": 4,
 "nbformat_minor": 2
}
