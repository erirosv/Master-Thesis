{
 "cells": [
  {
   "cell_type": "code",
   "execution_count": 23,
   "metadata": {},
   "outputs": [],
   "source": [
    "import pandas as pd\n",
    "import matplotlib.pyplot as plt\n",
    "import numpy as np\n",
    "import glob"
   ]
  },
  {
   "cell_type": "code",
   "execution_count": 24,
   "metadata": {},
   "outputs": [],
   "source": [
    "data_list_numbers = ['40', '50', '60', '70', '80', '90', '100']\n",
    "data_list_name = 'max_iter_'"
   ]
  },
  {
   "cell_type": "code",
   "execution_count": 25,
   "metadata": {},
   "outputs": [],
   "source": [
    "dataframes = []"
   ]
  },
  {
   "cell_type": "code",
   "execution_count": 26,
   "metadata": {},
   "outputs": [
    {
     "name": "stdout",
     "output_type": "stream",
     "text": [
      "../data/sensitivity/iter_max/max_iter_40/gene_fsr_results_cv_alon.csv\n",
      "../data/sensitivity/iter_max/max_iter_50/gene_fsr_results_cv_alon.csv\n",
      "../data/sensitivity/iter_max/max_iter_60/gene_fsr_results_cv_alon.csv\n",
      "../data/sensitivity/iter_max/max_iter_70/gene_fsr_results_cv_alon.csv\n",
      "../data/sensitivity/iter_max/max_iter_80/gene_fsr_results_cv_alon.csv\n",
      "../data/sensitivity/iter_max/max_iter_90/gene_fsr_results_cv_alon.csv\n",
      "../data/sensitivity/iter_max/max_iter_100/gene_fsr_results_cv_alon.csv\n"
     ]
    }
   ],
   "source": [
    "for number in data_list_numbers:\n",
    "    file_pattern = f\"../data/sensitivity/iter_max/{data_list_name}{number}/gene_fsr_results_cv_alon.csv\"\n",
    "    print(file_pattern)\n",
    "    matching_files = glob.glob(file_pattern)\n",
    "    \n",
    "    for file in matching_files:\n",
    "        df = pd.read_csv(file)\n",
    "        dataframes.append(df)"
   ]
  },
  {
   "cell_type": "code",
   "execution_count": 29,
   "metadata": {},
   "outputs": [
    {
     "name": "stdout",
     "output_type": "stream",
     "text": [
      "  dataset _wrapper  num_features_algo  cv_SPFSR\n",
      "0    alon       DT                 10    0.0000\n",
      "1    alon       DT                 10    0.4615\n",
      "2    alon       DT                 10    0.1667\n",
      "3    alon       DT                 10    0.2500\n",
      "4    alon       DT                 10    0.1667\n",
      "  dataset _wrapper  num_features_algo  cv_SPFSR\n",
      "0    alon       DT                 10    0.0000\n",
      "1    alon       DT                 10    0.4615\n",
      "2    alon       DT                 10    0.1667\n",
      "3    alon       DT                 10    0.2500\n",
      "4    alon       DT                 10    0.1667\n",
      "  dataset _wrapper  num_features_algo  cv_SPFSR\n",
      "0    alon       DT                 10    0.0769\n",
      "1    alon       DT                 10    0.4615\n",
      "2    alon       DT                 10    0.1667\n",
      "3    alon       DT                 10    0.2500\n",
      "4    alon       DT                 10    0.2500\n",
      "  dataset _wrapper  num_features_algo  cv_SPFSR\n",
      "0    alon       DT                 10    0.0769\n",
      "1    alon       DT                 10    0.4615\n",
      "2    alon       DT                 10    0.1667\n",
      "3    alon       DT                 10    0.2500\n",
      "4    alon       DT                 10    0.2500\n",
      "  dataset _wrapper  num_features_algo  cv_SPFSR\n",
      "0    alon       DT                 10    0.0769\n",
      "1    alon       DT                 10    0.4615\n",
      "2    alon       DT                 10    0.1667\n",
      "3    alon       DT                 10    0.2500\n",
      "4    alon       DT                 10    0.2500\n",
      "  dataset _wrapper  num_features_algo  cv_SPFSR\n",
      "0    alon       DT                 10    0.0769\n",
      "1    alon       DT                 10    0.4615\n",
      "2    alon       DT                 10    0.1667\n",
      "3    alon       DT                 10    0.2500\n",
      "4    alon       DT                 10    0.2500\n",
      "  dataset _wrapper  num_features_algo  cv_SPFSR\n",
      "0    alon       DT                 10    0.0769\n",
      "1    alon       DT                 10    0.4615\n",
      "2    alon       DT                 10    0.1667\n",
      "3    alon       DT                 10    0.2500\n",
      "4    alon       DT                 10    0.2500\n"
     ]
    }
   ],
   "source": [
    "len(dataframes)\n",
    "for frame in dataframes:\n",
    "    print(frame.head())"
   ]
  },
  {
   "cell_type": "code",
   "execution_count": 33,
   "metadata": {},
   "outputs": [
    {
     "name": "stdout",
     "output_type": "stream",
     "text": [
      "<class 'pandas.core.frame.DataFrame'>\n",
      "RangeIndex: 100 entries, 0 to 99\n",
      "Data columns (total 4 columns):\n",
      " #   Column             Non-Null Count  Dtype  \n",
      "---  ------             --------------  -----  \n",
      " 0   dataset            100 non-null    object \n",
      " 1   _wrapper           100 non-null    object \n",
      " 2   num_features_algo  100 non-null    int64  \n",
      " 3   cv_SPFSR           100 non-null    float64\n",
      "dtypes: float64(1), int64(1), object(2)\n",
      "memory usage: 3.2+ KB\n"
     ]
    }
   ],
   "source": [
    "df_40 = dataframes[0]\n",
    "df_40.info()"
   ]
  },
  {
   "cell_type": "code",
   "execution_count": 32,
   "metadata": {},
   "outputs": [
    {
     "data": {
      "text/plain": [
       "{'DT', 'KNN', 'NB', 'SVM'}"
      ]
     },
     "execution_count": 32,
     "metadata": {},
     "output_type": "execute_result"
    }
   ],
   "source": [
    "print(set(df_40['_wrapper']))"
   ]
  },
  {
   "cell_type": "code",
   "execution_count": null,
   "metadata": {},
   "outputs": [],
   "source": []
  }
 ],
 "metadata": {
  "kernelspec": {
   "display_name": "Python 3",
   "language": "python",
   "name": "python3"
  },
  "language_info": {
   "codemirror_mode": {
    "name": "ipython",
    "version": 3
   },
   "file_extension": ".py",
   "mimetype": "text/x-python",
   "name": "python",
   "nbconvert_exporter": "python",
   "pygments_lexer": "ipython3",
   "version": "3.10.11"
  },
  "orig_nbformat": 4
 },
 "nbformat": 4,
 "nbformat_minor": 2
}
